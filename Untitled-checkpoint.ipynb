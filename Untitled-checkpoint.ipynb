{
 "cells": [
  {
   "cell_type": "markdown",
   "metadata": {},
   "source": [
    "## 建列表\n"
   ]
  },
  {
   "cell_type": "code",
   "execution_count": 62,
   "metadata": {},
   "outputs": [],
   "source": [
    "#先写一下通用的东西\n",
    "import requests #导入requests模块\n",
    "import json\n",
    "create_facelists_url = \"https://eastasia.api.cognitive.microsoft.com/face/v1.0/facelists/{faceListId}\" \n",
    "subscription_key = \"f701f8dd6fc1483fb8aed386a75b9b8e\"\n",
    "assert subscription_key\n",
    "headers = {\n",
    "    # Request headers\n",
    "    'Content-Type': 'application/json',\n",
    "    'Ocp-Apim-Subscription-Key': subscription_key,\n",
    "}"
   ]
  },
  {
   "cell_type": "code",
   "execution_count": 65,
   "metadata": {},
   "outputs": [
    {
     "data": {
      "text/plain": [
       "200"
      ]
     },
     "execution_count": 65,
     "metadata": {},
     "output_type": "execute_result"
    }
   ],
   "source": [
    "# 1、create 创建一个装相片的列表\n",
    "data = {\n",
    "    \"name\": \"list_pm_c\",\n",
    "    \"userData\": \"示例-face\",\n",
    "    \"recognitionModel\": \"recognition_02\"\n",
    "}\n",
    "params = {\n",
    "    # Request parameters    \n",
    "   \n",
    "    \"faceListId\":\"whou\"\n",
    "    \n",
    "#     'detectionModel': 'detection_01',\n",
    "}\n",
    "r_create = requests.put(create_facelists_url,headers=headers,params=params,json=data)\n",
    "# 请求成功，返回空字符串\n",
    "r_create.status_code"
   ]
  },
  {
   "cell_type": "code",
   "execution_count": 67,
   "metadata": {},
   "outputs": [
    {
     "data": {
      "text/plain": [
       "b''"
      ]
     },
     "execution_count": 67,
     "metadata": {},
     "output_type": "execute_result"
    }
   ],
   "source": [
    "r_create.content"
   ]
  },
  {
   "cell_type": "markdown",
   "metadata": {},
   "source": [
    "## 存入face"
   ]
  },
  {
   "cell_type": "code",
   "execution_count": 72,
   "metadata": {},
   "outputs": [],
   "source": [
    "#先加一张脸试试\n",
    "# 2、Add face\n",
    "add_face_url =\"https://eastasia.api.cognitive.microsoft.com/face/v1.0/facelists/{faceListId}/persistedFaces\"\n",
    "subscription_key = \"f701f8dd6fc1483fb8aed386a75b9b8e\"\n",
    "assert subscription_key\n",
    "headers = {\n",
    "    # Request headers\n",
    "    'Content-Type': 'application/json',\n",
    "    'Ocp-Apim-Subscription-Key': subscription_key,\n",
    "}\n",
    "img_url = \"https://gitee.com/linxiaomingcool/Api/blob/master/img/prem.jpg\"\n",
    "\n",
    "params_add_face={\n",
    "    \"faceListId\":\"whou\",\n",
    "    \"userData\":\"prem\"\n",
    "}\n",
    "\n",
    "r_add_face = requests.post(add_face_url,headers=headers,params=params_add_face,json={\"url\":img_url})\n",
    "# r = requests.post(add_face, headers=headers,params = params,json={\"url\": add_face_image})"
   ]
  },
  {
   "cell_type": "code",
   "execution_count": 73,
   "metadata": {},
   "outputs": [],
   "source": [
    "# 封装成函数方便添加图片\n",
    "def AddFace(img_url=str,userData=str):\n",
    "    add_face_url =\"https://eastasia.api.cognitive.microsoft.com/face/v1.0/facelists/{faceListId}/persistedFaces\"\n",
    "    subscription_key = \"f701f8dd6fc1483fb8aed386a75b9b8e\"\n",
    "    assert subscription_key\n",
    "    headers = {\n",
    "        # Request headers\n",
    "        'Content-Type': 'application/json',\n",
    "        'Ocp-Apim-Subscription-Key': subscription_key,\n",
    "    }\n",
    "    img_url = img_url\n",
    "\n",
    "    params_add_face={\n",
    "        \"faceListId\":\"whou\",\n",
    "        \"userData\":userData\n",
    "    }\n",
    "    r_add_face = requests.post(add_face_url,headers=headers,params=params_add_face,json={\"url\":img_url})\n",
    "    return r_add_face.status_code#返回出状态码"
   ]
  },
  {
   "cell_type": "code",
   "execution_count": 74,
   "metadata": {},
   "outputs": [],
   "source": [
    "# 顺便把查看列表的也给封装了\n",
    "# Get facelist\n",
    "def GetFacelist():\n",
    "    get_facelist_url = \"https://eastasia.api.cognitive.microsoft.com/face/v1.0/facelists/{faceListId}\"\n",
    "    data = {\n",
    "        \"faceListId\":\"whou\",\n",
    "    }\n",
    "    r_get_facelist = requests.get(get_facelist_url,headers=headers,params=data)\n",
    "    return r_get_facelist.json()"
   ]
  },
  {
   "cell_type": "code",
   "execution_count": 75,
   "metadata": {},
   "outputs": [
    {
     "data": {
      "text/plain": [
       "200"
      ]
     },
     "execution_count": 75,
     "metadata": {},
     "output_type": "execute_result"
    }
   ],
   "source": [
    "AddFace(\"https://c-ssl.duitang.com/uploads/item/201903/14/20190314155334_YhfJC.thumb.1000_0.jpeg\",\"perth\")\n",
    "AddFace(\"https://c-ssl.duitang.com/uploads/item/201811/04/20181104001045_a2yGG.thumb.1000_0.jpeg\",\"mark\")\n",
    "AddFace(\"https://c-ssl.duitang.com/uploads/item/202004/07/20200407001503_ryede.thumb.1000_0.jpg\",\"prem\")\n",
    "AddFace(\"https://c-ssl.duitang.com/uploads/item/201906/17/20190617151858_xGWCt.thumb.1000_0.jpeg\",\"chimonac\")\n",
    "AddFace(\"https://c-ssl.duitang.com/uploads/item/202002/29/20200229222658_dcady.jpeg\",\"new\")\n",
    "AddFace(\"https://c-ssl.duitang.com/uploads/item/202003/14/20200314163107_yrvgt.thumb.1000_0.jpg\",\"tay\")\n",
    "AddFace(\"https://c-ssl.duitang.com/uploads/item/202001/31/20200131204007_gtupp.thumb.1000_0.jpg\",\"许光汉\")\n",
    "AddFace(\"https://c-ssl.duitang.com/uploads/item/202002/20/20200220191249_bwwbd.thumb.1000_0.jpg\",\"施柏宇\")\n",
    "AddFace(\"https://c-ssl.duitang.com/uploads/item/201811/11/20181111184905_GXNhH.thumb.1000_0.jpeg\",\"mean\")\n",
    "AddFace(\"https://c-ssl.duitang.com/uploads/item/201909/13/20190913210334_lceqk.thumb.1000_0.jpg\",\"plustor\")\n",
    "AddFace(\"https://c-ssl.duitang.com/uploads/item/201901/31/20190131230847_uxmcl.thumb.1000_0.jpg\",\"frank\")\n",
    "AddFace(\"https://c-ssl.duitang.com/uploads/item/202001/17/20200117201112_qyqou.thumb.1000_0.jpg\",\"金宰铉\")"
   ]
  },
  {
   "cell_type": "markdown",
   "metadata": {},
   "source": [
    "## 测试"
   ]
  },
  {
   "cell_type": "code",
   "execution_count": 76,
   "metadata": {},
   "outputs": [
    {
     "data": {
      "text/plain": [
       "'[{\"faceId\": \"8eaaa59e-c07b-49e5-8bb2-46d7a98c6b0c\", \"faceRectangle\": {\"top\": 343, \"left\": 263, \"width\": 464, \"height\": 464}, \"faceAttributes\": {\"smile\": 0.0, \"headPose\": {\"pitch\": 2.8, \"roll\": -0.3, \"yaw\": 1.0}, \"gender\": \"male\", \"age\": 19.0, \"facialHair\": {\"moustache\": 0.1, \"beard\": 0.1, \"sideburns\": 0.1}, \"glasses\": \"NoGlasses\", \"emotion\": {\"anger\": 0.0, \"contempt\": 0.0, \"disgust\": 0.0, \"fear\": 0.0, \"happiness\": 0.0, \"neutral\": 0.999, \"sadness\": 0.001, \"surprise\": 0.0}, \"blur\": {\"blurLevel\": \"medium\", \"value\": 0.6}, \"exposure\": {\"exposureLevel\": \"goodExposure\", \"value\": 0.73}, \"noise\": {\"noiseLevel\": \"low\", \"value\": 0.0}, \"makeup\": {\"eyeMakeup\": true, \"lipMakeup\": true}, \"accessories\": [], \"occlusion\": {\"foreheadOccluded\": false, \"eyeOccluded\": false, \"mouthOccluded\": false}, \"hair\": {\"bald\": 0.03, \"invisible\": false, \"hairColor\": [{\"color\": \"black\", \"confidence\": 1.0}, {\"color\": \"brown\", \"confidence\": 0.99}, {\"color\": \"gray\", \"confidence\": 0.21}, {\"color\": \"other\", \"confidence\": 0.17}, {\"color\": \"red\", \"confidence\": 0.06}, {\"color\": \"blond\", \"confidence\": 0.01}]}}}]'"
      ]
     },
     "execution_count": 76,
     "metadata": {},
     "output_type": "execute_result"
    }
   ],
   "source": [
    "# 3、检测人脸的id\n",
    "# replace <My Endpoint String> with the string from your endpoint URL\n",
    "face_api_url = 'https://eastasia.api.cognitive.microsoft.com/face/v1.0/detect'\n",
    "\n",
    "# 请求正文\n",
    "image_url = 'https://c-ssl.duitang.com/uploads/item/201908/10/20190810182844_qkuxs.thumb.1000_0.jpeg'\n",
    "\n",
    "headers = {'Ocp-Apim-Subscription-Key': subscription_key}\n",
    "\n",
    "# 请求参数\n",
    "params = {\n",
    "    'returnFaceId': 'true',\n",
    "    'returnFaceLandmarks': 'false',\n",
    "    # 选择model\n",
    "    'recognitionModel':'recognition_02',\n",
    "    'detectionModel':'detection_01',\n",
    "    # 可选参数,请仔细阅读API文档\n",
    "    'returnFaceAttributes': 'age,gender,headPose,smile,facialHair,glasses,emotion,hair,makeup,occlusion,accessories,blur,exposure,noise',\n",
    "}\n",
    "\n",
    "response = requests.post(face_api_url, params=params,\n",
    "                         headers=headers, json={\"url\": image_url})\n",
    "# json.dumps 将json--->字符串\n",
    "json.dumps(response.json())"
   ]
  },
  {
   "cell_type": "code",
   "execution_count": 77,
   "metadata": {},
   "outputs": [],
   "source": [
    "脸 = response.json()[0][\"faceId\"]"
   ]
  },
  {
   "cell_type": "markdown",
   "metadata": {},
   "source": [
    "## 相似度 "
   ]
  },
  {
   "cell_type": "code",
   "execution_count": 80,
   "metadata": {},
   "outputs": [],
   "source": [
    "#4、Find similars\n",
    "\n",
    "findsimilars_url = \"https://eastasia.api.cognitive.microsoft.com/face/v1.0/findsimilars\"\n",
    "\n",
    "# 请求正文 faceId需要先检测一张照片获取\n",
    "data_findsimilars = {\n",
    "    \"faceId\":脸,\n",
    "    \"faceListId\":\"whou\",\n",
    "    \"maxNumOfCandidatesReturned\": 10,\n",
    "    \"mode\": \"matchFace\"#matchPerson\n",
    "    }\n",
    "\n",
    "r_findsimilars = requests.post(findsimilars_url,headers=headers,json=data_findsimilars)"
   ]
  },
  {
   "cell_type": "code",
   "execution_count": 81,
   "metadata": {},
   "outputs": [
    {
     "data": {
      "text/plain": [
       "200"
      ]
     },
     "execution_count": 81,
     "metadata": {},
     "output_type": "execute_result"
    }
   ],
   "source": [
    "r_findsimilars.status_code"
   ]
  },
  {
   "cell_type": "code",
   "execution_count": 82,
   "metadata": {},
   "outputs": [
    {
     "data": {
      "text/plain": [
       "[{'persistedFaceId': '86df6bed-5c86-436e-9dea-61e493dadeee',\n",
       "  'confidence': 0.2344},\n",
       " {'persistedFaceId': 'ec3918df-fcf7-401a-b071-76dc31a8cdad',\n",
       "  'confidence': 0.22997},\n",
       " {'persistedFaceId': '684ac083-12f3-43db-bef7-3913e755eb6f',\n",
       "  'confidence': 0.2142},\n",
       " {'persistedFaceId': 'f8e56829-399a-4911-838b-ec7a77bd1a93',\n",
       "  'confidence': 0.18887},\n",
       " {'persistedFaceId': '222ed0f2-3f95-490d-95cc-01c5803911d4',\n",
       "  'confidence': 0.15747},\n",
       " {'persistedFaceId': '6abb548a-db92-4f89-ba52-572e8d626baf',\n",
       "  'confidence': 0.09907},\n",
       " {'persistedFaceId': '27e0b51d-cf31-4106-a7ce-41ff0bcca52f',\n",
       "  'confidence': 0.09704},\n",
       " {'persistedFaceId': '86f5a665-b1c4-4ed1-8124-fb6c13146225',\n",
       "  'confidence': 0.09667},\n",
       " {'persistedFaceId': '8dc9cb1d-6e77-4861-bec8-f596b44bdb83',\n",
       "  'confidence': 0.09523},\n",
       " {'persistedFaceId': 'dd9a3320-e30e-4d41-8fce-39667448971e',\n",
       "  'confidence': 0.0932}]"
      ]
     },
     "execution_count": 82,
     "metadata": {},
     "output_type": "execute_result"
    }
   ],
   "source": [
    "r_findsimilars.json()"
   ]
  },
  {
   "cell_type": "markdown",
   "metadata": {},
   "source": [
    "## 做成报表 "
   ]
  },
  {
   "cell_type": "code",
   "execution_count": 83,
   "metadata": {},
   "outputs": [
    {
     "data": {
      "text/plain": [
       "{'persistedFaces': [{'persistedFaceId': '684ac083-12f3-43db-bef7-3913e755eb6f',\n",
       "   'userData': 'perth'},\n",
       "  {'persistedFaceId': 'ec3918df-fcf7-401a-b071-76dc31a8cdad',\n",
       "   'userData': 'mark'},\n",
       "  {'persistedFaceId': 'f8e56829-399a-4911-838b-ec7a77bd1a93',\n",
       "   'userData': 'prem'},\n",
       "  {'persistedFaceId': '4ae0f8f2-96c4-41bc-bf29-9ce186e11d0b',\n",
       "   'userData': 'chimonac'},\n",
       "  {'persistedFaceId': '86f5a665-b1c4-4ed1-8124-fb6c13146225',\n",
       "   'userData': 'new'},\n",
       "  {'persistedFaceId': '6abb548a-db92-4f89-ba52-572e8d626baf',\n",
       "   'userData': 'tay'},\n",
       "  {'persistedFaceId': '8dc9cb1d-6e77-4861-bec8-f596b44bdb83',\n",
       "   'userData': '许光汉'},\n",
       "  {'persistedFaceId': '222ed0f2-3f95-490d-95cc-01c5803911d4',\n",
       "   'userData': '施柏宇'},\n",
       "  {'persistedFaceId': 'b9ed8cd2-ecc2-43b0-8a49-b7a52b2aa854',\n",
       "   'userData': 'mean'},\n",
       "  {'persistedFaceId': '27e0b51d-cf31-4106-a7ce-41ff0bcca52f',\n",
       "   'userData': 'plustor'},\n",
       "  {'persistedFaceId': '86df6bed-5c86-436e-9dea-61e493dadeee',\n",
       "   'userData': 'frank'},\n",
       "  {'persistedFaceId': 'dd9a3320-e30e-4d41-8fce-39667448971e',\n",
       "   'userData': '金宰铉'}],\n",
       " 'faceListId': 'whou',\n",
       " 'name': 'list_pm_c',\n",
       " 'userData': '示例-face'}"
      ]
     },
     "execution_count": 83,
     "metadata": {},
     "output_type": "execute_result"
    }
   ],
   "source": [
    "import pandas as pd\n",
    "\n",
    "get_facelist_url = \"https://eastasia.api.cognitive.microsoft.com/face/v1.0/facelists/{faceListId}\"\n",
    "\n",
    "data = {\n",
    "    \"faceListId\":\"whou\",\n",
    "\n",
    "}\n",
    "\n",
    "r_get_facelist = requests.get(get_facelist_url,headers=headers,params=data)\n",
    "r_get_facelist.json()"
   ]
  },
  {
   "cell_type": "code",
   "execution_count": 84,
   "metadata": {},
   "outputs": [
    {
     "data": {
      "text/html": [
       "<div>\n",
       "<style scoped>\n",
       "    .dataframe tbody tr th:only-of-type {\n",
       "        vertical-align: middle;\n",
       "    }\n",
       "\n",
       "    .dataframe tbody tr th {\n",
       "        vertical-align: top;\n",
       "    }\n",
       "\n",
       "    .dataframe thead th {\n",
       "        text-align: right;\n",
       "    }\n",
       "</style>\n",
       "<table border=\"1\" class=\"dataframe\">\n",
       "  <thead>\n",
       "    <tr style=\"text-align: right;\">\n",
       "      <th></th>\n",
       "      <th>persistedFaceId</th>\n",
       "      <th>userData</th>\n",
       "    </tr>\n",
       "  </thead>\n",
       "  <tbody>\n",
       "    <tr>\n",
       "      <th>0</th>\n",
       "      <td>684ac083-12f3-43db-bef7-3913e755eb6f</td>\n",
       "      <td>perth</td>\n",
       "    </tr>\n",
       "    <tr>\n",
       "      <th>1</th>\n",
       "      <td>ec3918df-fcf7-401a-b071-76dc31a8cdad</td>\n",
       "      <td>mark</td>\n",
       "    </tr>\n",
       "    <tr>\n",
       "      <th>2</th>\n",
       "      <td>f8e56829-399a-4911-838b-ec7a77bd1a93</td>\n",
       "      <td>prem</td>\n",
       "    </tr>\n",
       "    <tr>\n",
       "      <th>3</th>\n",
       "      <td>4ae0f8f2-96c4-41bc-bf29-9ce186e11d0b</td>\n",
       "      <td>chimonac</td>\n",
       "    </tr>\n",
       "    <tr>\n",
       "      <th>4</th>\n",
       "      <td>86f5a665-b1c4-4ed1-8124-fb6c13146225</td>\n",
       "      <td>new</td>\n",
       "    </tr>\n",
       "    <tr>\n",
       "      <th>5</th>\n",
       "      <td>6abb548a-db92-4f89-ba52-572e8d626baf</td>\n",
       "      <td>tay</td>\n",
       "    </tr>\n",
       "    <tr>\n",
       "      <th>6</th>\n",
       "      <td>8dc9cb1d-6e77-4861-bec8-f596b44bdb83</td>\n",
       "      <td>许光汉</td>\n",
       "    </tr>\n",
       "    <tr>\n",
       "      <th>7</th>\n",
       "      <td>222ed0f2-3f95-490d-95cc-01c5803911d4</td>\n",
       "      <td>施柏宇</td>\n",
       "    </tr>\n",
       "    <tr>\n",
       "      <th>8</th>\n",
       "      <td>b9ed8cd2-ecc2-43b0-8a49-b7a52b2aa854</td>\n",
       "      <td>mean</td>\n",
       "    </tr>\n",
       "    <tr>\n",
       "      <th>9</th>\n",
       "      <td>27e0b51d-cf31-4106-a7ce-41ff0bcca52f</td>\n",
       "      <td>plustor</td>\n",
       "    </tr>\n",
       "    <tr>\n",
       "      <th>10</th>\n",
       "      <td>86df6bed-5c86-436e-9dea-61e493dadeee</td>\n",
       "      <td>frank</td>\n",
       "    </tr>\n",
       "    <tr>\n",
       "      <th>11</th>\n",
       "      <td>dd9a3320-e30e-4d41-8fce-39667448971e</td>\n",
       "      <td>金宰铉</td>\n",
       "    </tr>\n",
       "  </tbody>\n",
       "</table>\n",
       "</div>"
      ],
      "text/plain": [
       "                         persistedFaceId  userData\n",
       "0   684ac083-12f3-43db-bef7-3913e755eb6f     perth\n",
       "1   ec3918df-fcf7-401a-b071-76dc31a8cdad      mark\n",
       "2   f8e56829-399a-4911-838b-ec7a77bd1a93      prem\n",
       "3   4ae0f8f2-96c4-41bc-bf29-9ce186e11d0b  chimonac\n",
       "4   86f5a665-b1c4-4ed1-8124-fb6c13146225       new\n",
       "5   6abb548a-db92-4f89-ba52-572e8d626baf       tay\n",
       "6   8dc9cb1d-6e77-4861-bec8-f596b44bdb83       许光汉\n",
       "7   222ed0f2-3f95-490d-95cc-01c5803911d4       施柏宇\n",
       "8   b9ed8cd2-ecc2-43b0-8a49-b7a52b2aa854      mean\n",
       "9   27e0b51d-cf31-4106-a7ce-41ff0bcca52f   plustor\n",
       "10  86df6bed-5c86-436e-9dea-61e493dadeee     frank\n",
       "11  dd9a3320-e30e-4d41-8fce-39667448971e       金宰铉"
      ]
     },
     "execution_count": 84,
     "metadata": {},
     "output_type": "execute_result"
    }
   ],
   "source": [
    "adf = pd.json_normalize(r_get_facelist.json()[\"persistedFaces\"])\n",
    "adf"
   ]
  },
  {
   "cell_type": "code",
   "execution_count": 86,
   "metadata": {},
   "outputs": [
    {
     "data": {
      "text/html": [
       "<div>\n",
       "<style scoped>\n",
       "    .dataframe tbody tr th:only-of-type {\n",
       "        vertical-align: middle;\n",
       "    }\n",
       "\n",
       "    .dataframe tbody tr th {\n",
       "        vertical-align: top;\n",
       "    }\n",
       "\n",
       "    .dataframe thead th {\n",
       "        text-align: right;\n",
       "    }\n",
       "</style>\n",
       "<table border=\"1\" class=\"dataframe\">\n",
       "  <thead>\n",
       "    <tr style=\"text-align: right;\">\n",
       "      <th></th>\n",
       "      <th>persistedFaceId</th>\n",
       "      <th>confidence</th>\n",
       "    </tr>\n",
       "  </thead>\n",
       "  <tbody>\n",
       "    <tr>\n",
       "      <th>0</th>\n",
       "      <td>86df6bed-5c86-436e-9dea-61e493dadeee</td>\n",
       "      <td>0.23440</td>\n",
       "    </tr>\n",
       "    <tr>\n",
       "      <th>1</th>\n",
       "      <td>ec3918df-fcf7-401a-b071-76dc31a8cdad</td>\n",
       "      <td>0.22997</td>\n",
       "    </tr>\n",
       "    <tr>\n",
       "      <th>2</th>\n",
       "      <td>684ac083-12f3-43db-bef7-3913e755eb6f</td>\n",
       "      <td>0.21420</td>\n",
       "    </tr>\n",
       "    <tr>\n",
       "      <th>3</th>\n",
       "      <td>f8e56829-399a-4911-838b-ec7a77bd1a93</td>\n",
       "      <td>0.18887</td>\n",
       "    </tr>\n",
       "    <tr>\n",
       "      <th>4</th>\n",
       "      <td>222ed0f2-3f95-490d-95cc-01c5803911d4</td>\n",
       "      <td>0.15747</td>\n",
       "    </tr>\n",
       "    <tr>\n",
       "      <th>5</th>\n",
       "      <td>6abb548a-db92-4f89-ba52-572e8d626baf</td>\n",
       "      <td>0.09907</td>\n",
       "    </tr>\n",
       "    <tr>\n",
       "      <th>6</th>\n",
       "      <td>27e0b51d-cf31-4106-a7ce-41ff0bcca52f</td>\n",
       "      <td>0.09704</td>\n",
       "    </tr>\n",
       "    <tr>\n",
       "      <th>7</th>\n",
       "      <td>86f5a665-b1c4-4ed1-8124-fb6c13146225</td>\n",
       "      <td>0.09667</td>\n",
       "    </tr>\n",
       "    <tr>\n",
       "      <th>8</th>\n",
       "      <td>8dc9cb1d-6e77-4861-bec8-f596b44bdb83</td>\n",
       "      <td>0.09523</td>\n",
       "    </tr>\n",
       "    <tr>\n",
       "      <th>9</th>\n",
       "      <td>dd9a3320-e30e-4d41-8fce-39667448971e</td>\n",
       "      <td>0.09320</td>\n",
       "    </tr>\n",
       "  </tbody>\n",
       "</table>\n",
       "</div>"
      ],
      "text/plain": [
       "                        persistedFaceId  confidence\n",
       "0  86df6bed-5c86-436e-9dea-61e493dadeee     0.23440\n",
       "1  ec3918df-fcf7-401a-b071-76dc31a8cdad     0.22997\n",
       "2  684ac083-12f3-43db-bef7-3913e755eb6f     0.21420\n",
       "3  f8e56829-399a-4911-838b-ec7a77bd1a93     0.18887\n",
       "4  222ed0f2-3f95-490d-95cc-01c5803911d4     0.15747\n",
       "5  6abb548a-db92-4f89-ba52-572e8d626baf     0.09907\n",
       "6  27e0b51d-cf31-4106-a7ce-41ff0bcca52f     0.09704\n",
       "7  86f5a665-b1c4-4ed1-8124-fb6c13146225     0.09667\n",
       "8  8dc9cb1d-6e77-4861-bec8-f596b44bdb83     0.09523\n",
       "9  dd9a3320-e30e-4d41-8fce-39667448971e     0.09320"
      ]
     },
     "execution_count": 86,
     "metadata": {},
     "output_type": "execute_result"
    }
   ],
   "source": [
    "bdf = pd.json_normalize(r_findsimilars.json())\n",
    "bdf"
   ]
  },
  {
   "cell_type": "code",
   "execution_count": 87,
   "metadata": {},
   "outputs": [
    {
     "data": {
      "text/html": [
       "<div>\n",
       "<style scoped>\n",
       "    .dataframe tbody tr th:only-of-type {\n",
       "        vertical-align: middle;\n",
       "    }\n",
       "\n",
       "    .dataframe tbody tr th {\n",
       "        vertical-align: top;\n",
       "    }\n",
       "\n",
       "    .dataframe thead th {\n",
       "        text-align: right;\n",
       "    }\n",
       "</style>\n",
       "<table border=\"1\" class=\"dataframe\">\n",
       "  <thead>\n",
       "    <tr style=\"text-align: right;\">\n",
       "      <th></th>\n",
       "      <th>persistedFaceId</th>\n",
       "      <th>userData</th>\n",
       "      <th>confidence</th>\n",
       "    </tr>\n",
       "  </thead>\n",
       "  <tbody>\n",
       "    <tr>\n",
       "      <th>8</th>\n",
       "      <td>86df6bed-5c86-436e-9dea-61e493dadeee</td>\n",
       "      <td>frank</td>\n",
       "      <td>0.23440</td>\n",
       "    </tr>\n",
       "    <tr>\n",
       "      <th>1</th>\n",
       "      <td>ec3918df-fcf7-401a-b071-76dc31a8cdad</td>\n",
       "      <td>mark</td>\n",
       "      <td>0.22997</td>\n",
       "    </tr>\n",
       "    <tr>\n",
       "      <th>0</th>\n",
       "      <td>684ac083-12f3-43db-bef7-3913e755eb6f</td>\n",
       "      <td>perth</td>\n",
       "      <td>0.21420</td>\n",
       "    </tr>\n",
       "    <tr>\n",
       "      <th>2</th>\n",
       "      <td>f8e56829-399a-4911-838b-ec7a77bd1a93</td>\n",
       "      <td>prem</td>\n",
       "      <td>0.18887</td>\n",
       "    </tr>\n",
       "    <tr>\n",
       "      <th>6</th>\n",
       "      <td>222ed0f2-3f95-490d-95cc-01c5803911d4</td>\n",
       "      <td>施柏宇</td>\n",
       "      <td>0.15747</td>\n",
       "    </tr>\n",
       "    <tr>\n",
       "      <th>4</th>\n",
       "      <td>6abb548a-db92-4f89-ba52-572e8d626baf</td>\n",
       "      <td>tay</td>\n",
       "      <td>0.09907</td>\n",
       "    </tr>\n",
       "    <tr>\n",
       "      <th>7</th>\n",
       "      <td>27e0b51d-cf31-4106-a7ce-41ff0bcca52f</td>\n",
       "      <td>plustor</td>\n",
       "      <td>0.09704</td>\n",
       "    </tr>\n",
       "    <tr>\n",
       "      <th>3</th>\n",
       "      <td>86f5a665-b1c4-4ed1-8124-fb6c13146225</td>\n",
       "      <td>new</td>\n",
       "      <td>0.09667</td>\n",
       "    </tr>\n",
       "    <tr>\n",
       "      <th>5</th>\n",
       "      <td>8dc9cb1d-6e77-4861-bec8-f596b44bdb83</td>\n",
       "      <td>许光汉</td>\n",
       "      <td>0.09523</td>\n",
       "    </tr>\n",
       "    <tr>\n",
       "      <th>9</th>\n",
       "      <td>dd9a3320-e30e-4d41-8fce-39667448971e</td>\n",
       "      <td>金宰铉</td>\n",
       "      <td>0.09320</td>\n",
       "    </tr>\n",
       "  </tbody>\n",
       "</table>\n",
       "</div>"
      ],
      "text/plain": [
       "                        persistedFaceId userData  confidence\n",
       "8  86df6bed-5c86-436e-9dea-61e493dadeee    frank     0.23440\n",
       "1  ec3918df-fcf7-401a-b071-76dc31a8cdad     mark     0.22997\n",
       "0  684ac083-12f3-43db-bef7-3913e755eb6f    perth     0.21420\n",
       "2  f8e56829-399a-4911-838b-ec7a77bd1a93     prem     0.18887\n",
       "6  222ed0f2-3f95-490d-95cc-01c5803911d4      施柏宇     0.15747\n",
       "4  6abb548a-db92-4f89-ba52-572e8d626baf      tay     0.09907\n",
       "7  27e0b51d-cf31-4106-a7ce-41ff0bcca52f  plustor     0.09704\n",
       "3  86f5a665-b1c4-4ed1-8124-fb6c13146225      new     0.09667\n",
       "5  8dc9cb1d-6e77-4861-bec8-f596b44bdb83      许光汉     0.09523\n",
       "9  dd9a3320-e30e-4d41-8fce-39667448971e      金宰铉     0.09320"
      ]
     },
     "execution_count": 87,
     "metadata": {},
     "output_type": "execute_result"
    }
   ],
   "source": [
    "pd.merge(adf, bdf,how='inner', on='persistedFaceId').sort_values(by=\"confidence\",ascending = False)"
   ]
  },
  {
   "cell_type": "code",
   "execution_count": null,
   "metadata": {},
   "outputs": [],
   "source": []
  }
 ],
 "metadata": {
  "kernelspec": {
   "display_name": "Python 3",
   "language": "python",
   "name": "python3"
  },
  "language_info": {
   "codemirror_mode": {
    "name": "ipython",
    "version": 3
   },
   "file_extension": ".py",
   "mimetype": "text/x-python",
   "name": "python",
   "nbconvert_exporter": "python",
   "pygments_lexer": "ipython3",
   "version": "3.7.6"
  }
 },
 "nbformat": 4,
 "nbformat_minor": 2
}
